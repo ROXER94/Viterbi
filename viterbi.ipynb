{
 "metadata": {
  "name": "viterbi.ipynb"
 },
 "nbformat": 3,
 "nbformat_minor": 0,
 "worksheets": [
  {
   "cells": [
    {
     "cell_type": "code",
     "collapsed": false,
     "input": [
      "states = ('Fair', 'Loaded')\n",
      " \n",
      "observations = ('6','6')\n",
      " \n",
      "start_probability = {'Fair': .99, 'Loaded': .01}\n",
      " \n",
      "transition_probability = {\n",
      "   'Fair' : {'Fair': 0.8, 'Loaded': 0.2},\n",
      "   'Loaded' : {'Fair': 0.3, 'Loaded': 0.7}\n",
      "   }\n",
      " \n",
      "emission_probability = {\n",
      "   'Fair' : {'1': 1./6, '2': 1./6, '3': 1./6, '4': 1./6, '5': 1./6, '6': 1./6},\n",
      "   'Loaded' : {'1': 1./10, '2': 1./10, '3': 1./10, '4': 1./10, '5': 1./10, '6': 1./2}\n",
      "   }"
     ],
     "language": "python",
     "metadata": {},
     "outputs": [],
     "prompt_number": 16
    },
    {
     "cell_type": "code",
     "collapsed": false,
     "input": [
      "def viterbi(obs, states, start_p, trans_p, emit_p):\n",
      "    V = [{}]\n",
      "    path = {}\n",
      " \n",
      "    # Initialize base cases (t == 0)\n",
      "    for y in states:\n",
      "        V[0][y] = start_p[y] * emit_p[y][obs[0]]\n",
      "        path[y] = [y]\n",
      " \n",
      "    # Run Viterbi for t > 0\n",
      "    for t in range(1, len(obs)):\n",
      "        V.append({})\n",
      "        newpath = {}\n",
      " \n",
      "        for y in states:\n",
      "            (prob, state) = max((V[t-1][y0] * trans_p[y0][y] * emit_p[y][obs[t]], y0) for y0 in states)\n",
      "            V[t][y] = prob\n",
      "            newpath[y] = path[state] + [y]\n",
      " \n",
      "        # Don't need to remember the old paths\n",
      "        path = newpath\n",
      "    n = 0           # if only one element is observed max is sought in the initialization values\n",
      "    if len(obs) != 1:\n",
      "        n = t\n",
      "    print_dptable(V)\n",
      "    (prob, state) = max((V[n][y], y) for y in states)\n",
      "    return (prob, path[state])\n",
      " \n",
      "# Don't study this, it just prints a table of the steps.\n",
      "def print_dptable(V):\n",
      "    s = \"    \" + \" \".join((\"%7d\" % i) for i in range(len(V))) + \"\\n\"\n",
      "    for y in V[0]:\n",
      "        s += \"%.5s: \" % y\n",
      "        s += \" \".join(\"%.7s\" % (\"%f\" % v[y]) for v in V)\n",
      "        s += \"\\n\"\n",
      "    print(s)"
     ],
     "language": "python",
     "metadata": {},
     "outputs": [],
     "prompt_number": 17
    },
    {
     "cell_type": "code",
     "collapsed": false,
     "input": [
      "def example():\n",
      "    return viterbi(observations,\n",
      "                   states,\n",
      "                   start_probability,\n",
      "                   transition_probability,\n",
      "                   emission_probability)\n",
      "print(example())"
     ],
     "language": "python",
     "metadata": {},
     "outputs": [
      {
       "output_type": "stream",
       "stream": "stdout",
       "text": [
        "          0       1\n",
        "Loade: 0.00500 0.01650\n",
        "Fair: 0.16500 0.02200\n",
        "\n",
        "(0.021999999999999995, ['Fair', 'Fair'])\n"
       ]
      }
     ],
     "prompt_number": 18
    },
    {
     "cell_type": "code",
     "collapsed": false,
     "input": [],
     "language": "python",
     "metadata": {},
     "outputs": []
    }
   ],
   "metadata": {}
  }
 ]
}